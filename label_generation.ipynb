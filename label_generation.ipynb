{
    "cells": [
        {
            "cell_type": "markdown",
            "source": [
                "# How to train supervised machine learning algorithms **without** labeled data?"
            ],
            "metadata": {}
        },
        {
            "cell_type": "markdown",
            "source": [
                "<p align=\"center\"> <img src=\"https://cdn.pixabay.com/photo/2019/09/15/12/11/network-4478146_1280.jpg\"> </p>   "
            ],
            "metadata": {}
        },
        {
            "cell_type": "markdown",
            "source": [
                "# Introduction"
            ],
            "metadata": {}
        },
        {
            "cell_type": "markdown",
            "source": [
                "> *Garbage in, Garbage out!*  \r\n",
                "  \r\n",
                "There is a reason why this expression is so popular within the data science community.  \r\n",
                "The very first step of any data science project, or machine learning design is to **get quality data**. This is performed using different tools, including web scraping, polls, measures from sensors, etc. The data is divided into two parts: **Features** and **Labels**. Features are the inputs of the machine learning algorithm. They will be used to predict the labels after the training process. During the training step (in supervised learning), the algorithm adapts gradually its parameters so the outputs resemble the provided labels.  \r\n",
                "One of the most costly things in data collection is labeling. It involves usually human manipulation or annotation. Machine learning (and deep learning) algorithms require **large amount** of data to perform optimal training and be able to generalize. This prevent also **overfitting** to happen.  \r\n",
                "  \r\n",
                "## But what if the data is not labeled?  \r\n",
                "When the data is missing a part or all labels, it is virtually impossible to perform supervised training. We must find a way to create targets, using one of the following approaches:\r\n",
                "- Manual labeling: performed by experts, in-house data labelers, or using crowdsouring (like Amazon Mechanical Turk)\r\n",
                "- Automated labeling: before training the ML algorithm, labels are created using unsupervised training techniques.  \r\n",
                "\r\n",
                "In practice, the amount of required data to train efficiently deep learning algorithms is increasing. Requiring 50k, 100k or millions of labeled data points is not unusual in computer vision or natural language processing. We could combine the two approaches, in order to save on costs.  \r\n",
                "## Label creation using deep autoencoders\r\n",
                "In this article, we will go through the implementation of a labeling process, based on deep autoencoders. This unsupervised (or self-supervised) learning technique aims to learn the data structure by trying to regenerate the data. An autoencoder consists of two parts: encoder and decoder.\r\n",
                "<p align=\"center\"> <img src=\"https://i.imgur.com/1C0bFbG.png\"> </p>   \r\n",
                "\r\n",
                "\r\n",
                "The *encoder* part transforms the input data (the features) into a representation (called also an encoding) via multiple non-linear transformations. The trick is that the network learns at the same time, the inverse transformation in order to reconstruct the data from its representation. The inverse transformation is the *decoder*. When the autoencoder is trained properly, the data structure is **learned**. We could use the encoder then to generate labels, by replacing the decoder by a simple classifier that we train on the available labels.\r\n",
                "\r\n",
                "<p align=\"center\"> <img src=\"https://i.imgur.com/GvjSbwc.png\"> </p>   \r\n",
                "  \r\n",
                "This technique requires some labels. As we will see later, we only need a fraction of labels that can be obtained manually or via crowdsourcing for a much lower cost. "
            ],
            "metadata": {}
        },
        {
            "cell_type": "code",
            "execution_count": 1,
            "source": [
                "#import libraries and setup \r\n",
                "import keras\r\n",
                "import numpy as np\r\n",
                "import matplotlib.pyplot as plt\r\n",
                "%matplotlib inline\r\n",
                "import logging\r\n",
                "logging.getLogger('tensorflow').disabled = True\r\n",
                "from keras.models import Sequential\r\n",
                "from keras.layers import Dense, Conv2D, Flatten, MaxPooling2D, UpSampling2D\r\n",
                "from keras.callbacks import EarlyStopping\r\n",
                "from tensorflow.keras.utils import to_categorical\r\n",
                "es = EarlyStopping(monitor='val_loss', mode='min', verbose=2, patience=10, restore_best_weights=True)\r\n",
                "from sklearn.ensemble import RandomForestClassifier as clf\r\n"
            ],
            "outputs": [],
            "metadata": {}
        },
        {
            "cell_type": "markdown",
            "source": [
                "# The MNIST dataset"
            ],
            "metadata": {}
        },
        {
            "cell_type": "markdown",
            "source": [
                "In this article, we will use the **MNIST** dataset to experiment with the efficiency of autoencoders in label creation. The **MNIST** dataset is a large database of handwritten digits and corresponding numbers. It contains 60000 grayscale images for training and 10000 images for validation/testing. It is considered as the *Hello World* of computer vision machine learning. This dataset can be obtained via multiple sources. We will use **Tensorflow/Keras** datasets to load the data.\r\n"
            ],
            "metadata": {}
        },
        {
            "cell_type": "code",
            "execution_count": 2,
            "source": [
                "# import mnist\r\n",
                "(x_train, y_train), (x_test, y_test) = keras.datasets.mnist.load_data()\r\n",
                "print(x_train.shape,y_train.shape)"
            ],
            "outputs": [
                {
                    "output_type": "stream",
                    "name": "stdout",
                    "text": [
                        "(60000, 28, 28) (60000,)\n"
                    ]
                }
            ],
            "metadata": {}
        },
        {
            "cell_type": "markdown",
            "source": [
                "The `x_train` tensor contains 60000 matrices of dimension 28x28. Each element of these matrices represents the brightness of a single pixel. The `y_train` tensor contains the labels for each image. We start by normalizing the data and reshaping the matrices to a format that can be used by `matplotlib` for visualization. A one hot encoding will be performed as well, on the labels. This will be used later during the validation/testing."
            ],
            "metadata": {}
        },
        {
            "cell_type": "code",
            "execution_count": 3,
            "source": [
                "#normalize data\r\n",
                "if x_train.max() >1:\r\n",
                "    x_train = x_train / 255\r\n",
                "    x_test = x_test / 255\r\n",
                "\r\n",
                "default_shape = x_train.shape\r\n",
                "#reshape input data to 1 channel\r\n",
                "x_train = x_train.reshape(-1,default_shape[1],default_shape[2],1)\r\n",
                "x_test = x_test.reshape(-1,default_shape[1],default_shape[2],1)\r\n",
                "image_dim = x_train.shape[1:]\r\n",
                "\r\n",
                "# one hot encoding labels\r\n",
                "y_train_cat = to_categorical(y_train)\r\n",
                "y_test_cat= to_categorical(y_test)"
            ],
            "outputs": [],
            "metadata": {}
        },
        {
            "cell_type": "markdown",
            "source": [
                "Let's show a random sample from the data:"
            ],
            "metadata": {}
        },
        {
            "cell_type": "code",
            "execution_count": 4,
            "source": [
                "random_label = np.random.randint(0,59999)\r\n",
                "plt.imshow(x_train[random_label,:,:].reshape(28,28), cmap='gray')\r\n",
                "print('Label = {} '.format(y_train[random_label]))"
            ],
            "outputs": [
                {
                    "output_type": "stream",
                    "name": "stdout",
                    "text": [
                        "Label = 0 \n"
                    ]
                },
                {
                    "output_type": "display_data",
                    "data": {
                        "image/png": "[encoded data removed]",
                        "text/plain": [
                            "<Figure size 432x288 with 1 Axes>"
                        ]
                    },
                    "metadata": {
                        "needs_background": "light"
                    }
                }
            ],
            "metadata": {}
        },
        {
            "cell_type": "markdown",
            "source": [
                "The images are in low resolution (28x28). Since they are handwritten, many variations of the same digit can be encountered. The ML algorithm will need a lot of data points to be able to generalize!"
            ],
            "metadata": {}
        },
        {
            "cell_type": "markdown",
            "source": [
                "# Design and validation of a data labeling process"
            ],
            "metadata": {}
        },
        {
            "cell_type": "markdown",
            "source": [
                "In this section, we will implement data labeling process, based on a deep autoencoder. The method is described in the following diagram:  \r\n",
                "\r\n",
                "<p align=\"center\"> <img src=\"https://i.imgur.com/ur1rwG7.png\"> </p>  \r\n",
                "  \r\n",
                "**- First (the middle column)** we will train a random forest classifier using all the training dataset, in order to set a reference for comparison.  \r\n",
                "**- In the second step (the right column)** a similar classifier will be trained on a fraction of the data (in this article 1%). The goal is to quantify the impact of the dataset size on the overall classifier performance.  \r\n",
                "**- Lastly** (the left column)** a data labeling process will be used to generate labels and train a classifier. We will compare the performance to the two previous implementations.    "
            ],
            "metadata": {}
        },
        {
            "cell_type": "markdown",
            "source": [
                "## Random forest classifier training using the entire dataset"
            ],
            "metadata": {}
        },
        {
            "cell_type": "markdown",
            "source": [
                "Using *Scikit learn*, we can implement a random forest classifier. No hyperparameter tuning will be performed. "
            ],
            "metadata": {}
        },
        {
            "cell_type": "code",
            "execution_count": 5,
            "source": [
                "# create a classifier on all the data\r\n",
                "classifier_all_labels= clf()\r\n",
                "classifier_all_labels.fit(x_train.reshape(-1,28*28),y_train_cat)"
            ],
            "outputs": [
                {
                    "output_type": "execute_result",
                    "data": {
                        "text/plain": [
                            "RandomForestClassifier()"
                        ]
                    },
                    "metadata": {},
                    "execution_count": 5
                }
            ],
            "metadata": {}
        },
        {
            "cell_type": "markdown",
            "source": [
                "After the training step, we measure the average accuracy of the classifier on the *test* data."
            ],
            "metadata": {}
        },
        {
            "cell_type": "code",
            "execution_count": 6,
            "source": [
                "#score of the classifier\r\n",
                "classifier_all_labels.score(x_test.reshape(-1,28*28),y_test_cat)"
            ],
            "outputs": [
                {
                    "output_type": "execute_result",
                    "data": {
                        "text/plain": [
                            "0.9018"
                        ]
                    },
                    "metadata": {},
                    "execution_count": 6
                }
            ],
            "metadata": {}
        },
        {
            "cell_type": "markdown",
            "source": [
                "Not bad! 90% of accuracy using a classic machine learning approach on a computer vision problem is reasonable. We could obtain better results using deep learning and convolutional nets, but this is not the scope of this article.  \r\n",
                "Here are some predictions on the *test* data:"
            ],
            "metadata": {}
        },
        {
            "cell_type": "code",
            "execution_count": 7,
            "source": [
                "# a test on random images\r\n",
                "random_labels = np.random.randint(0,9999,15)\r\n",
                "img_samples = x_test[random_labels,:,:,:]\r\n",
                "label_samples = y_test[random_labels]\r\n",
                "plt.figure(figsize=(10, 10));\r\n",
                "for i in range(15):\r\n",
                "    plt.subplot(5,3,i+1)\r\n",
                "    image = img_samples[i]\r\n",
                "    pred = classifier_all_labels.predict(image.reshape(-1,28*28))\r\n",
                "    plt.imshow(image.reshape(28,28), cmap='gray');\r\n",
                "    plt.title('({}) label={}, prediction={}'.format(i,label_samples[i],np.argmax(pred)));\r\n",
                "    plt.axis('off');"
            ],
            "outputs": [
                {
                    "output_type": "display_data",
                    "data": {
                        "image/png": "[encoded data removed]",
                        "text/plain": [
                            "<Figure size 720x720 with 15 Axes>"
                        ]
                    },
                    "metadata": {
                        "needs_background": "light"
                    }
                }
            ],
            "metadata": {}
        },
        {
            "cell_type": "markdown",
            "source": [
                "The classifier is able to predict the labels in most of the cases.  \r\n",
                "The next step consists of training a similar architecture classifier, with less training data."
            ],
            "metadata": {}
        },
        {
            "cell_type": "markdown",
            "source": [
                "## Random forest classifier training using a fraction of the dataset"
            ],
            "metadata": {}
        },
        {
            "cell_type": "markdown",
            "source": [
                "Let's suppose that **MNIST** doesn't provide labels with the images. If we have to create targets manually, we will have to repeat 60000 times this operation!  \r\n",
                "If we assume that, overall, it takes 5 seconds per image to open the file, and record the label, the operation will require more than 83 hours... *there must be a better way!*  \r\n",
                "In this article, we will label manually 1% of the data. 600 labels will take less than one hour to create. "
            ],
            "metadata": {}
        },
        {
            "cell_type": "code",
            "execution_count": 8,
            "source": [
                "# what if we don't have all the labels\r\n",
                "#split the training data into labeled and non labeled\r\n",
                "labeled_ratio = 0.01 # \r\n",
                "labeled_index = np.int(len(x_train)*labeled_ratio)\r\n",
                "x_train_labeled = x_train[:labeled_index]\r\n",
                "x_train_unlabeled = x_train[labeled_index:]\r\n",
                "y_train_cat_labeled = y_train_cat[:labeled_index] \r\n",
                "print('Number of labeled data points {} out of {}'.format(labeled_index,x_train.shape[0]))\r\n"
            ],
            "outputs": [
                {
                    "output_type": "stream",
                    "name": "stdout",
                    "text": [
                        "Number of labeled data points 600 out of 60000\n"
                    ]
                }
            ],
            "metadata": {}
        },
        {
            "cell_type": "markdown",
            "source": [
                "Let's see now, what performance we can get when training the random forest classifier on 1% of the data."
            ],
            "metadata": {}
        },
        {
            "cell_type": "code",
            "execution_count": 9,
            "source": [
                "# what if the same model is trained only on a small part of data\r\n",
                "classifier_few_labels =  clf()\r\n",
                "classifier_few_labels.fit(x_train_labeled.reshape(-1,28*28),y_train_cat_labeled)"
            ],
            "outputs": [
                {
                    "output_type": "execute_result",
                    "data": {
                        "text/plain": [
                            "RandomForestClassifier()"
                        ]
                    },
                    "metadata": {},
                    "execution_count": 9
                }
            ],
            "metadata": {}
        },
        {
            "cell_type": "code",
            "execution_count": 10,
            "source": [
                "#score of the classifier\r\n",
                "classifier_few_labels.score(x_test.reshape(-1,28*28),y_test_cat)"
            ],
            "outputs": [
                {
                    "output_type": "execute_result",
                    "data": {
                        "text/plain": [
                            "0.4636"
                        ]
                    },
                    "metadata": {},
                    "execution_count": 10
                }
            ],
            "metadata": {}
        },
        {
            "cell_type": "markdown",
            "source": [
                "The score dropped from 90% to 47%. The classifier is simply useless in this case."
            ],
            "metadata": {}
        },
        {
            "cell_type": "code",
            "execution_count": 11,
            "source": [
                "# a test on random images\r\n",
                "random_labels = np.random.randint(0,9999,15)\r\n",
                "img_samples = x_test[random_labels,:,:,:]\r\n",
                "label_samples = y_test[random_labels]\r\n",
                "plt.figure(figsize=(10, 10));\r\n",
                "for i in range(15):\r\n",
                "    plt.subplot(5,3,i+1)\r\n",
                "    image = img_samples[i]\r\n",
                "    pred = classifier_few_labels.predict(image.reshape(-1,28*28))\r\n",
                "    plt.imshow(image.reshape(28,28), cmap='gray');\r\n",
                "    plt.title('({}) label={}, prediction={}'.format(i,label_samples[i],np.argmax(pred)));\r\n",
                "    plt.axis('off');"
            ],
            "outputs": [
                {
                    "output_type": "display_data",
                    "data": {
                        "image/png": "[encoded data removed]",
                        "text/plain": [
                            "<Figure size 720x720 with 15 Axes>"
                        ]
                    },
                    "metadata": {
                        "needs_background": "light"
                    }
                }
            ],
            "metadata": {}
        },
        {
            "cell_type": "markdown",
            "source": [
                "The predictions are not correct in most cases. We have to come up with more labels."
            ],
            "metadata": {}
        },
        {
            "cell_type": "markdown",
            "source": [
                "## Autoencoder design using convolutional neural networks"
            ],
            "metadata": {}
        },
        {
            "cell_type": "markdown",
            "source": [
                "The training of autoencoder for label generation is divided into two steps:  \r\n",
                "<p align=\"center\"> <img src=\"https://i.imgur.com/Beq3wu3.png\"> </p>   \r\n",
                "We train initially the encoder and the decoder on the features, to learn data structure. After that, the decoder is replaced by a classification layer. The resulting system (encoder+classification layer) is trained on the available labels (1% in our case). During the training, only the classification layer's weights are optimized. In fact, the encoder is already trained and doesn't require further learning. Since the classification layer is not complex, we could obtain good results using a small fraction of labels.\r\n"
            ],
            "metadata": {}
        },
        {
            "cell_type": "markdown",
            "source": [
                "We use deep convolutional networks to build the encoder. These neural networks are suitable for image data because they extract the useful features and are robust against shifting patterns. They require less parameters than dense networks."
            ],
            "metadata": {}
        },
        {
            "cell_type": "code",
            "execution_count": 12,
            "source": [
                "# create an autoencoder / decoder on the whole data (without labels)\r\n",
                "encoder = Sequential()\r\n",
                "encoder.add(Conv2D(32,kernel_size=(3,3), strides=(1,1),padding='same', activation='selu',input_shape=image_dim))\r\n",
                "encoder.add(MaxPooling2D(2,2))\r\n",
                "encoder.add(Conv2D(64,kernel_size=(3,3), strides=(1,1),padding='same',activation='selu'))\r\n",
                "encoder.add(MaxPooling2D(2,2))\r\n",
                "encoder.add(Conv2D(128,kernel_size=(3,3), strides=(1,1),padding='same',activation='selu'))\r\n",
                "\r\n",
                "encoder.summary()"
            ],
            "outputs": [
                {
                    "output_type": "stream",
                    "name": "stdout",
                    "text": [
                        "Model: \"sequential\"\n",
                        "_________________________________________________________________\n",
                        "Layer (type)                 Output Shape              Param #   \n",
                        "=================================================================\n",
                        "conv2d (Conv2D)              (None, 28, 28, 32)        320       \n",
                        "_________________________________________________________________\n",
                        "max_pooling2d (MaxPooling2D) (None, 14, 14, 32)        0         \n",
                        "_________________________________________________________________\n",
                        "conv2d_1 (Conv2D)            (None, 14, 14, 64)        18496     \n",
                        "_________________________________________________________________\n",
                        "max_pooling2d_1 (MaxPooling2 (None, 7, 7, 64)          0         \n",
                        "_________________________________________________________________\n",
                        "conv2d_2 (Conv2D)            (None, 7, 7, 128)         73856     \n",
                        "=================================================================\n",
                        "Total params: 92,672\n",
                        "Trainable params: 92,672\n",
                        "Non-trainable params: 0\n",
                        "_________________________________________________________________\n"
                    ]
                }
            ],
            "metadata": {}
        },
        {
            "cell_type": "markdown",
            "source": [
                "The decoder does the inverse transformation. It reconstructs the image using the decoder output. A similar architecture is used."
            ],
            "metadata": {}
        },
        {
            "cell_type": "code",
            "execution_count": 13,
            "source": [
                "encoder_out_dim = encoder.layers[-1].output_shape[1:]\r\n",
                "encoder_out_dim"
            ],
            "outputs": [
                {
                    "output_type": "execute_result",
                    "data": {
                        "text/plain": [
                            "(7, 7, 128)"
                        ]
                    },
                    "metadata": {},
                    "execution_count": 13
                }
            ],
            "metadata": {}
        },
        {
            "cell_type": "code",
            "execution_count": 14,
            "source": [
                "decoder = Sequential()\r\n",
                "decoder.add(Conv2D(128,kernel_size=(3,3), strides=(1,1),padding='same', activation='selu', input_shape=encoder_out_dim))\r\n",
                "decoder.add(UpSampling2D((2,2)))\r\n",
                "decoder.add(Conv2D(64,kernel_size=(3,3), strides=(1,1),padding='same', activation='selu'))\r\n",
                "decoder.add(UpSampling2D((2,2)))\r\n",
                "decoder.add(Conv2D(1,kernel_size=(3,3), strides=(1,1),padding='same', activation='sigmoid'))\r\n",
                "\r\n",
                "decoder.summary()"
            ],
            "outputs": [
                {
                    "output_type": "stream",
                    "name": "stdout",
                    "text": [
                        "Model: \"sequential_1\"\n",
                        "_________________________________________________________________\n",
                        "Layer (type)                 Output Shape              Param #   \n",
                        "=================================================================\n",
                        "conv2d_3 (Conv2D)            (None, 7, 7, 128)         147584    \n",
                        "_________________________________________________________________\n",
                        "up_sampling2d (UpSampling2D) (None, 14, 14, 128)       0         \n",
                        "_________________________________________________________________\n",
                        "conv2d_4 (Conv2D)            (None, 14, 14, 64)        73792     \n",
                        "_________________________________________________________________\n",
                        "up_sampling2d_1 (UpSampling2 (None, 28, 28, 64)        0         \n",
                        "_________________________________________________________________\n",
                        "conv2d_5 (Conv2D)            (None, 28, 28, 1)         577       \n",
                        "=================================================================\n",
                        "Total params: 221,953\n",
                        "Trainable params: 221,953\n",
                        "Non-trainable params: 0\n",
                        "_________________________________________________________________\n"
                    ]
                }
            ],
            "metadata": {}
        },
        {
            "cell_type": "markdown",
            "source": [
                "To create the autoencoder, we stack the encoder and the decoder."
            ],
            "metadata": {}
        },
        {
            "cell_type": "code",
            "execution_count": 15,
            "source": [
                "enc_dec = Sequential([encoder,decoder])\r\n",
                "enc_dec.summary()"
            ],
            "outputs": [
                {
                    "output_type": "stream",
                    "name": "stdout",
                    "text": [
                        "Model: \"sequential_2\"\n",
                        "_________________________________________________________________\n",
                        "Layer (type)                 Output Shape              Param #   \n",
                        "=================================================================\n",
                        "sequential (Sequential)      (None, 7, 7, 128)         92672     \n",
                        "_________________________________________________________________\n",
                        "sequential_1 (Sequential)    (None, 28, 28, 1)         221953    \n",
                        "=================================================================\n",
                        "Total params: 314,625\n",
                        "Trainable params: 314,625\n",
                        "Non-trainable params: 0\n",
                        "_________________________________________________________________\n"
                    ]
                }
            ],
            "metadata": {}
        },
        {
            "cell_type": "code",
            "execution_count": 16,
            "source": [
                "enc_dec.compile(optimizer='nadam', loss = 'binary_crossentropy', metrics=['acc'])"
            ],
            "outputs": [],
            "metadata": {}
        },
        {
            "cell_type": "markdown",
            "source": [
                "The training is performed using the training features as inputs **AND** outputs. At the end of learning, the autoencoder will be able to reconstruct MNIST images. We use 20% of the data for validation, and early stop callback to prevent overfitting. "
            ],
            "metadata": {}
        },
        {
            "cell_type": "code",
            "execution_count": null,
            "source": [
                "enc_dec.fit(x_train,x_train, batch_size=1000,epochs=1000,validation_split=0.2, verbose=2,callbacks=[es])"
            ],
            "outputs": [],
            "metadata": {}
        },
        {
            "cell_type": "code",
            "execution_count": null,
            "source": [
                "# save models\r\n",
                "encoder.save('encoder')\r\n",
                "decoder.save('decoder')"
            ],
            "outputs": [],
            "metadata": {}
        },
        {
            "cell_type": "code",
            "execution_count": 17,
            "source": [
                "# load models\r\n",
                "encoder = keras.models.load_model('encoder') \r\n",
                "decoder = keras.models.load_model('decoder') \r\n",
                "enc_dec = Sequential([encoder,decoder])"
            ],
            "outputs": [],
            "metadata": {}
        },
        {
            "cell_type": "markdown",
            "source": [
                "Let's check the performance of the autoencoder. We pick a random image from the test data. The network will output a similar image (80% accuracy based on validation accuracy)."
            ],
            "metadata": {}
        },
        {
            "cell_type": "code",
            "execution_count": 19,
            "source": [
                "random_label = np.random.randint(0,9999)\r\n",
                "img_sample = x_test[random_label,:,:]\r\n",
                "plt.imshow(img_sample.reshape(28,28), cmap='gray');\r\n",
                "pred_img = enc_dec.predict(img_sample.reshape((1,28,28,1))) \r\n",
                "plt.figure();\r\n",
                "plt.imshow(pred_img.reshape(28,28), cmap='gray');\r\n"
            ],
            "outputs": [
                {
                    "output_type": "execute_result",
                    "data": {
                        "text/plain": [
                            "<matplotlib.image.AxesImage at 0x20d005ebec8>"
                        ]
                    },
                    "metadata": {},
                    "execution_count": 19
                },
                {
                    "output_type": "display_data",
                    "data": {
                        "image/png": "[encoded data removed]",
                        "text/plain": [
                            "<Figure size 432x288 with 1 Axes>"
                        ]
                    },
                    "metadata": {
                        "needs_background": "light"
                    }
                },
                {
                    "output_type": "display_data",
                    "data": {
                        "image/png": "[encoded data removed]",
                        "text/plain": [
                            "<Figure size 432x288 with 1 Axes>"
                        ]
                    },
                    "metadata": {
                        "needs_background": "light"
                    }
                }
            ],
            "metadata": {}
        },
        {
            "cell_type": "markdown",
            "source": [
                "At this point, all we need is to add a dense layer with 10 outputs (the number of classes) to the encoder. "
            ],
            "metadata": {}
        },
        {
            "cell_type": "code",
            "execution_count": 20,
            "source": [
                "dense_encoder = Sequential()\r\n",
                "dense_encoder.add(Flatten(input_shape = encoder_out_dim ))\r\n",
                "dense_encoder.add(Dense(10,activation = 'softmax'))\r\n",
                "dense_encoder.summary()"
            ],
            "outputs": [
                {
                    "output_type": "stream",
                    "name": "stdout",
                    "text": [
                        "Model: \"sequential_4\"\n",
                        "_________________________________________________________________\n",
                        "Layer (type)                 Output Shape              Param #   \n",
                        "=================================================================\n",
                        "flatten (Flatten)            (None, 6272)              0         \n",
                        "_________________________________________________________________\n",
                        "dense (Dense)                (None, 10)                62730     \n",
                        "=================================================================\n",
                        "Total params: 62,730\n",
                        "Trainable params: 62,730\n",
                        "Non-trainable params: 0\n",
                        "_________________________________________________________________\n"
                    ]
                }
            ],
            "metadata": {}
        },
        {
            "cell_type": "markdown",
            "source": [
                "The weights of the encoder are frozen. The training will affect only the dense layer. "
            ],
            "metadata": {}
        },
        {
            "cell_type": "code",
            "execution_count": 21,
            "source": [
                "encoder.trainable = False\r\n",
                "labeler = Sequential([encoder, dense_encoder])\r\n",
                "labeler.summary()\r\n",
                "labeler.compile(optimizer='nadam', loss = 'categorical_crossentropy', metrics=['CategoricalAccuracy'])"
            ],
            "outputs": [
                {
                    "output_type": "stream",
                    "name": "stdout",
                    "text": [
                        "Model: \"sequential_5\"\n",
                        "_________________________________________________________________\n",
                        "Layer (type)                 Output Shape              Param #   \n",
                        "=================================================================\n",
                        "sequential (Sequential)      (None, 7, 7, 128)         92672     \n",
                        "_________________________________________________________________\n",
                        "sequential_4 (Sequential)    (None, 10)                62730     \n",
                        "=================================================================\n",
                        "Total params: 155,402\n",
                        "Trainable params: 62,730\n",
                        "Non-trainable params: 92,672\n",
                        "_________________________________________________________________\n"
                    ]
                }
            ],
            "metadata": {}
        },
        {
            "cell_type": "markdown",
            "source": [
                "Now we train the resulting network `labeler` on the 1% data that has labels."
            ],
            "metadata": {}
        },
        {
            "cell_type": "code",
            "execution_count": 22,
            "source": [
                "# train the last layer only on the available labels\r\n",
                "labeler.fit(x_train_labeled,y_train_cat_labeled, epochs=1000,validation_split=0.2, callbacks=[es])"
            ],
            "outputs": [
                {
                    "output_type": "stream",
                    "name": "stdout",
                    "text": [
                        "Epoch 1/1000\n",
                        "15/15 [==============================] - 0s 27ms/step - loss: 1.3809 - categorical_accuracy: 0.6438 - val_loss: 1.0077 - val_categorical_accuracy: 0.7917\n",
                        "Epoch 2/1000\n",
                        "15/15 [==============================] - 0s 8ms/step - loss: 0.5328 - categorical_accuracy: 0.8687 - val_loss: 0.7103 - val_categorical_accuracy: 0.8333\n",
                        "Epoch 3/1000\n",
                        "15/15 [==============================] - 0s 9ms/step - loss: 0.3316 - categorical_accuracy: 0.9354 - val_loss: 0.5934 - val_categorical_accuracy: 0.8250\n",
                        "Epoch 4/1000\n",
                        "15/15 [==============================] - 0s 12ms/step - loss: 0.2401 - categorical_accuracy: 0.9438 - val_loss: 0.5220 - val_categorical_accuracy: 0.8417\n",
                        "Epoch 5/1000\n",
                        "15/15 [==============================] - 0s 9ms/step - loss: 0.1869 - categorical_accuracy: 0.9625 - val_loss: 0.4930 - val_categorical_accuracy: 0.8667\n",
                        "Epoch 6/1000\n",
                        "15/15 [==============================] - 0s 8ms/step - loss: 0.1480 - categorical_accuracy: 0.9729 - val_loss: 0.4650 - val_categorical_accuracy: 0.8417\n",
                        "Epoch 7/1000\n",
                        "15/15 [==============================] - 0s 8ms/step - loss: 0.1177 - categorical_accuracy: 0.9854 - val_loss: 0.4592 - val_categorical_accuracy: 0.8583\n",
                        "Epoch 8/1000\n",
                        "15/15 [==============================] - 0s 8ms/step - loss: 0.0953 - categorical_accuracy: 0.9917 - val_loss: 0.4562 - val_categorical_accuracy: 0.8750\n",
                        "Epoch 9/1000\n",
                        "15/15 [==============================] - 0s 8ms/step - loss: 0.0779 - categorical_accuracy: 0.9979 - val_loss: 0.4413 - val_categorical_accuracy: 0.8583\n",
                        "Epoch 10/1000\n",
                        "15/15 [==============================] - 0s 7ms/step - loss: 0.0667 - categorical_accuracy: 1.0000 - val_loss: 0.4477 - val_categorical_accuracy: 0.8583\n",
                        "Epoch 11/1000\n",
                        "15/15 [==============================] - 0s 9ms/step - loss: 0.0577 - categorical_accuracy: 1.0000 - val_loss: 0.4344 - val_categorical_accuracy: 0.8500\n",
                        "Epoch 12/1000\n",
                        "15/15 [==============================] - 0s 9ms/step - loss: 0.0484 - categorical_accuracy: 1.0000 - val_loss: 0.4238 - val_categorical_accuracy: 0.8583\n",
                        "Epoch 13/1000\n",
                        "15/15 [==============================] - 0s 9ms/step - loss: 0.0434 - categorical_accuracy: 1.0000 - val_loss: 0.4247 - val_categorical_accuracy: 0.8500\n",
                        "Epoch 14/1000\n",
                        "15/15 [==============================] - 0s 8ms/step - loss: 0.0382 - categorical_accuracy: 1.0000 - val_loss: 0.4161 - val_categorical_accuracy: 0.8500\n",
                        "Epoch 15/1000\n",
                        "15/15 [==============================] - 0s 8ms/step - loss: 0.0348 - categorical_accuracy: 1.0000 - val_loss: 0.4142 - val_categorical_accuracy: 0.8583\n",
                        "Epoch 16/1000\n",
                        "15/15 [==============================] - 0s 9ms/step - loss: 0.0310 - categorical_accuracy: 1.0000 - val_loss: 0.4179 - val_categorical_accuracy: 0.8417\n",
                        "Epoch 17/1000\n",
                        "15/15 [==============================] - 0s 7ms/step - loss: 0.0276 - categorical_accuracy: 1.0000 - val_loss: 0.4200 - val_categorical_accuracy: 0.8500\n",
                        "Epoch 18/1000\n",
                        "15/15 [==============================] - 0s 7ms/step - loss: 0.0254 - categorical_accuracy: 1.0000 - val_loss: 0.4139 - val_categorical_accuracy: 0.8417\n",
                        "Epoch 19/1000\n",
                        "15/15 [==============================] - 0s 7ms/step - loss: 0.0233 - categorical_accuracy: 1.0000 - val_loss: 0.4148 - val_categorical_accuracy: 0.8417\n",
                        "Epoch 20/1000\n",
                        "15/15 [==============================] - 0s 8ms/step - loss: 0.0216 - categorical_accuracy: 1.0000 - val_loss: 0.4101 - val_categorical_accuracy: 0.8417\n",
                        "Epoch 21/1000\n",
                        "15/15 [==============================] - 0s 8ms/step - loss: 0.0199 - categorical_accuracy: 1.0000 - val_loss: 0.4071 - val_categorical_accuracy: 0.8500\n",
                        "Epoch 22/1000\n",
                        "15/15 [==============================] - 0s 8ms/step - loss: 0.0185 - categorical_accuracy: 1.0000 - val_loss: 0.4079 - val_categorical_accuracy: 0.8417\n",
                        "Epoch 23/1000\n",
                        "15/15 [==============================] - 0s 7ms/step - loss: 0.0172 - categorical_accuracy: 1.0000 - val_loss: 0.4058 - val_categorical_accuracy: 0.8417\n",
                        "Epoch 24/1000\n",
                        "15/15 [==============================] - 0s 7ms/step - loss: 0.0161 - categorical_accuracy: 1.0000 - val_loss: 0.4104 - val_categorical_accuracy: 0.8417\n",
                        "Epoch 25/1000\n",
                        "15/15 [==============================] - 0s 9ms/step - loss: 0.0152 - categorical_accuracy: 1.0000 - val_loss: 0.4049 - val_categorical_accuracy: 0.8417\n",
                        "Epoch 26/1000\n",
                        "15/15 [==============================] - 0s 7ms/step - loss: 0.0142 - categorical_accuracy: 1.0000 - val_loss: 0.4070 - val_categorical_accuracy: 0.8333\n",
                        "Epoch 27/1000\n",
                        "15/15 [==============================] - 0s 7ms/step - loss: 0.0134 - categorical_accuracy: 1.0000 - val_loss: 0.4079 - val_categorical_accuracy: 0.8333\n",
                        "Epoch 28/1000\n",
                        "15/15 [==============================] - 0s 9ms/step - loss: 0.0126 - categorical_accuracy: 1.0000 - val_loss: 0.4076 - val_categorical_accuracy: 0.8333\n",
                        "Epoch 29/1000\n",
                        "15/15 [==============================] - 0s 7ms/step - loss: 0.0119 - categorical_accuracy: 1.0000 - val_loss: 0.4081 - val_categorical_accuracy: 0.8333\n",
                        "Epoch 30/1000\n",
                        "15/15 [==============================] - 0s 7ms/step - loss: 0.0113 - categorical_accuracy: 1.0000 - val_loss: 0.4084 - val_categorical_accuracy: 0.8333\n",
                        "Epoch 31/1000\n",
                        "15/15 [==============================] - 0s 7ms/step - loss: 0.0108 - categorical_accuracy: 1.0000 - val_loss: 0.4082 - val_categorical_accuracy: 0.8417\n",
                        "Epoch 32/1000\n",
                        "15/15 [==============================] - 0s 9ms/step - loss: 0.0102 - categorical_accuracy: 1.0000 - val_loss: 0.4064 - val_categorical_accuracy: 0.8333\n",
                        "Epoch 33/1000\n",
                        "15/15 [==============================] - 0s 8ms/step - loss: 0.0097 - categorical_accuracy: 1.0000 - val_loss: 0.4041 - val_categorical_accuracy: 0.8333\n",
                        "Epoch 34/1000\n",
                        "15/15 [==============================] - 0s 8ms/step - loss: 0.0093 - categorical_accuracy: 1.0000 - val_loss: 0.4055 - val_categorical_accuracy: 0.8333\n",
                        "Epoch 35/1000\n",
                        "15/15 [==============================] - 0s 8ms/step - loss: 0.0089 - categorical_accuracy: 1.0000 - val_loss: 0.4064 - val_categorical_accuracy: 0.8333\n",
                        "Epoch 36/1000\n",
                        "15/15 [==============================] - 0s 7ms/step - loss: 0.0085 - categorical_accuracy: 1.0000 - val_loss: 0.4062 - val_categorical_accuracy: 0.8333\n",
                        "Epoch 37/1000\n",
                        "15/15 [==============================] - 0s 11ms/step - loss: 0.0081 - categorical_accuracy: 1.0000 - val_loss: 0.4057 - val_categorical_accuracy: 0.8333\n",
                        "Epoch 38/1000\n",
                        "15/15 [==============================] - 0s 8ms/step - loss: 0.0078 - categorical_accuracy: 1.0000 - val_loss: 0.4056 - val_categorical_accuracy: 0.8333\n",
                        "Epoch 39/1000\n",
                        "15/15 [==============================] - 0s 8ms/step - loss: 0.0075 - categorical_accuracy: 1.0000 - val_loss: 0.4060 - val_categorical_accuracy: 0.8333\n",
                        "Epoch 40/1000\n",
                        "15/15 [==============================] - 0s 10ms/step - loss: 0.0071 - categorical_accuracy: 1.0000 - val_loss: 0.4080 - val_categorical_accuracy: 0.8333\n",
                        "Epoch 41/1000\n",
                        "15/15 [==============================] - 0s 11ms/step - loss: 0.0070 - categorical_accuracy: 1.0000 - val_loss: 0.4077 - val_categorical_accuracy: 0.8333\n",
                        "Epoch 42/1000\n",
                        "15/15 [==============================] - 0s 10ms/step - loss: 0.0067 - categorical_accuracy: 1.0000 - val_loss: 0.4074 - val_categorical_accuracy: 0.8333\n",
                        "Epoch 43/1000\n",
                        "10/15 [===================>..........] - ETA: 0s - loss: 0.0062 - categorical_accuracy: 1.0000Restoring model weights from the end of the best epoch.\n",
                        "15/15 [==============================] - 0s 8ms/step - loss: 0.0064 - categorical_accuracy: 1.0000 - val_loss: 0.4072 - val_categorical_accuracy: 0.8333\n",
                        "Epoch 00043: early stopping\n"
                    ]
                },
                {
                    "output_type": "execute_result",
                    "data": {
                        "text/plain": [
                            "<tensorflow.python.keras.callbacks.History at 0x20d002e4e08>"
                        ]
                    },
                    "metadata": {},
                    "execution_count": 22
                }
            ],
            "metadata": {}
        },
        {
            "cell_type": "markdown",
            "source": [
                "Training will stop quickly due to the low number of data points. The categorical accuracy on validation data is around 85%. Keep in mind that we used 1% to train this network, and 20% of that data was used for validation. This means that we achieved 85% accuracy using 0.8% of labels!  \r\n",
                "Let's evaluate the label generator on the test data, and the real training labels."
            ],
            "metadata": {}
        },
        {
            "cell_type": "code",
            "execution_count": 23,
            "source": [
                "labeler.evaluate(x_test,y_test_cat)"
            ],
            "outputs": [
                {
                    "output_type": "stream",
                    "name": "stdout",
                    "text": [
                        "313/313 [==============================] - 1s 4ms/step - loss: 0.3928 - categorical_accuracy: 0.8797\n"
                    ]
                },
                {
                    "output_type": "execute_result",
                    "data": {
                        "text/plain": [
                            "[0.3927881419658661, 0.8797000050544739]"
                        ]
                    },
                    "metadata": {},
                    "execution_count": 23
                }
            ],
            "metadata": {}
        },
        {
            "cell_type": "code",
            "execution_count": 24,
            "source": [
                "labeler.evaluate(x_train,y_train_cat)"
            ],
            "outputs": [
                {
                    "output_type": "stream",
                    "name": "stdout",
                    "text": [
                        "1875/1875 [==============================] - 8s 4ms/step - loss: 0.4189 - categorical_accuracy: 0.8739\n"
                    ]
                },
                {
                    "output_type": "execute_result",
                    "data": {
                        "text/plain": [
                            "[0.4188738167285919, 0.8738833069801331]"
                        ]
                    },
                    "metadata": {},
                    "execution_count": 24
                }
            ],
            "metadata": {}
        },
        {
            "cell_type": "markdown",
            "source": [
                "The results are similar: around 88%. Before we use this new labels, let's make a visual comparison with real labels."
            ],
            "metadata": {}
        },
        {
            "cell_type": "code",
            "execution_count": 25,
            "source": [
                "# a test on random images\r\n",
                "random_labels = np.random.randint(0,9999,15)\r\n",
                "img_samples = x_test[random_labels,:,:,:]\r\n",
                "label_samples = y_test[random_labels]\r\n",
                "predicted_labels = labeler.predict(img_samples)\r\n",
                "plt.figure(figsize=(10, 10));\r\n",
                "for i in range(15):\r\n",
                "    plt.subplot(5,3,i+1)\r\n",
                "    pred_label = np.argmax(predicted_labels[i])+1\r\n",
                "    image = img_samples[i]\r\n",
                "    plt.imshow(image.reshape(28,28), cmap='gray');\r\n",
                "    plt.title('({}) label={}, pred_label={}'.format(i,label_samples[i],np.argmax(predicted_labels[i])));\r\n",
                "    plt.axis('off');\r\n"
            ],
            "outputs": [
                {
                    "output_type": "display_data",
                    "data": {
                        "image/png": "[encoded data removed]",
                        "text/plain": [
                            "<Figure size 720x720 with 15 Axes>"
                        ]
                    },
                    "metadata": {
                        "needs_background": "light"
                    }
                }
            ],
            "metadata": {}
        },
        {
            "cell_type": "markdown",
            "source": [
                "## Random forest classifier training using generated labels"
            ],
            "metadata": {}
        },
        {
            "cell_type": "markdown",
            "source": [
                "New labels are generated using the network, and used to train a random forest classifier."
            ],
            "metadata": {}
        },
        {
            "cell_type": "code",
            "execution_count": 26,
            "source": [
                "new_labels = np.round(labeler.predict(x_train_unlabeled))"
            ],
            "outputs": [],
            "metadata": {}
        },
        {
            "cell_type": "code",
            "execution_count": 27,
            "source": [
                "# train a classifier using the new labeled data\r\n",
                "classifier_generated_labels = clf()\r\n",
                "classifier_generated_labels.fit(x_train.reshape(-1,28*28),np.concatenate((y_train_cat_labeled,new_labels)))\r\n"
            ],
            "outputs": [
                {
                    "output_type": "execute_result",
                    "data": {
                        "text/plain": [
                            "RandomForestClassifier()"
                        ]
                    },
                    "metadata": {},
                    "execution_count": 27
                }
            ],
            "metadata": {}
        },
        {
            "cell_type": "markdown",
            "source": [
                "After the training step, we evaluate the accuracy of the classifier on unseen data (test data)."
            ],
            "metadata": {}
        },
        {
            "cell_type": "code",
            "execution_count": 28,
            "source": [
                "# score on the test labels\r\n",
                "classifier_generated_labels.score(x_test.reshape(-1,28*28),y_test_cat)"
            ],
            "outputs": [
                {
                    "output_type": "execute_result",
                    "data": {
                        "text/plain": [
                            "0.8165"
                        ]
                    },
                    "metadata": {},
                    "execution_count": 28
                }
            ],
            "metadata": {}
        },
        {
            "cell_type": "markdown",
            "source": [
                "81% of accuracy! using less than 1% of labels. This technique improved the quality of prediction from 47% to 81%, that's +73%.  \r\n",
                "One might wonder about the usefulness of training a random forest on generated labels while we already have a label generation procedure that shows good performances? There are multiple reasons in fact:\r\n",
                "- To have a fair comparison, we had to compare similar classification architectures.\r\n",
                "- Neural networks are not always an option, because of their complex implementation. "
            ],
            "metadata": {}
        },
        {
            "cell_type": "markdown",
            "source": [
                "# Conclusions and future work"
            ],
            "metadata": {}
        },
        {
            "cell_type": "markdown",
            "source": [
                "In this article, we designed and validated an autoencoder-based label generation method. To confirm the efficiency of this design, we tested on MNIST dataset with only 1% training labels. We achieved 81% accuracy, using a random forest classification.  \r\n",
                "The encoder was based on convolutional neural networks. This architecture is used widely in computer vision problems.  \r\n",
                "For the sake of simplicity, we didn't perform any hyperparameter tuning. This allowed us to make a fair comparison between all the scenarios.  \r\n",
                "This work was a simple application of unsupervised learning techniques, applied to supervised training.  \r\n",
                "In a future article, more details of the implementation of convolution will be discussed. We will consider other classification/regression problems involving regular feedforward networks and recurrent neural nets.    "
            ],
            "metadata": {}
        },
        {
            "cell_type": "markdown",
            "source": [],
            "metadata": {}
        }
    ],
    "metadata": {
        "orig_nbformat": 4,
        "language_info": {
            "name": "python",
            "version": "3.7.9",
            "mimetype": "text/x-python",
            "codemirror_mode": {
                "name": "ipython",
                "version": 3
            },
            "pygments_lexer": "ipython3",
            "nbconvert_exporter": "python",
            "file_extension": ".py"
        },
        "kernelspec": {
            "name": "python3",
            "display_name": "Python 3.7.9 64-bit"
        },
        "interpreter": {
            "hash": "684b1123683431d89d3bfe9a89cc763215f4b8cd94b4aba1fb40ad45ff7c8b41"
        }
    },
    "nbformat": 4,
    "nbformat_minor": 2
}